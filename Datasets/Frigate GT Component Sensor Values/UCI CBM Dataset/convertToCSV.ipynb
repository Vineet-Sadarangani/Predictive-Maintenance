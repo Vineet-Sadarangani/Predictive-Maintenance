{
 "cells": [
  {
   "cell_type": "code",
   "execution_count": 29,
   "metadata": {},
   "outputs": [
    {
     "name": "stdout",
     "output_type": "stream",
     "text": [
      "Data has been saved to data.csv.\n"
     ]
    }
   ],
   "source": [
    "import csv\n",
    "\n",
    "# Paths to the text files\n",
    "headers_file = 'Features.txt'  # File containing the headers\n",
    "values_file = 'data.txt'    # File containing the corresponding values\n",
    "output_csv_file = 'data.csv'  # Desired output CSV file name\n",
    "\n",
    "# Read headers\n",
    "with open(headers_file, 'r') as hf:\n",
    "    headers = hf.read()\n",
    "\n",
    "first = re.findall('\\(.*\\) \\[.*\\]', headers)\n",
    "for i in range(len(first)):\n",
    "    first[i] = first[i].replace(\"(\", \"\")\n",
    "    first[i] = first[i].replace(\")\", \"\")\n",
    "\n",
    "last_two = headers.split(\"\\n\")[-2:]\n",
    "for i in range(len(last_two)):\n",
    "    last_two[i] = last_two[i][5:]\n",
    "    last_two[i] = last_two[i].replace(\".\", \"\")\n",
    "\n",
    "headers = first + last_two\n",
    "\n",
    "# Read values\n",
    "with open(values_file, 'r') as vf:\n",
    "    rows = [line.strip().split('   ') for line in vf.readlines()]\n",
    "\n",
    "# Write to CSV\n",
    "with open(output_csv_file, 'w', newline='') as csvfile:\n",
    "    writer = csv.writer(csvfile)\n",
    "    writer.writerow(headers)  # Write headers\n",
    "    writer.writerows(rows)    # Write rows of values\n",
    "\n",
    "print(f\"Data has been saved to {output_csv_file}.\")"
   ]
  },
  {
   "cell_type": "code",
   "execution_count": null,
   "metadata": {},
   "outputs": [],
   "source": []
  }
 ],
 "metadata": {
  "kernelspec": {
   "display_name": "Python 3",
   "language": "python",
   "name": "python3"
  },
  "language_info": {
   "codemirror_mode": {
    "name": "ipython",
    "version": 3
   },
   "file_extension": ".py",
   "mimetype": "text/x-python",
   "name": "python",
   "nbconvert_exporter": "python",
   "pygments_lexer": "ipython3",
   "version": "3.11.9"
  }
 },
 "nbformat": 4,
 "nbformat_minor": 2
}
